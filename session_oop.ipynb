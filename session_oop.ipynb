{
  "nbformat": 4,
  "nbformat_minor": 0,
  "metadata": {
    "colab": {
      "provenance": [],
      "toc_visible": true,
      "authorship_tag": "ABX9TyPOjunYMnVm9CFVDbtIGuA6",
      "include_colab_link": true
    },
    "kernelspec": {
      "name": "python3",
      "display_name": "Python 3"
    },
    "language_info": {
      "name": "python"
    }
  },
  "cells": [
    {
      "cell_type": "markdown",
      "metadata": {
        "id": "view-in-github",
        "colab_type": "text"
      },
      "source": [
        "<a href=\"https://colab.research.google.com/github/Chandan0034/CodeCompiler/blob/main/session_oop.ipynb\" target=\"_parent\"><img src=\"https://colab.research.google.com/assets/colab-badge.svg\" alt=\"Open In Colab\"/></a>"
      ]
    },
    {
      "cell_type": "code",
      "execution_count": 3,
      "metadata": {
        "id": "i_n5MgZgK0XM"
      },
      "outputs": [],
      "source": [
        "l=[1,2,3,4]"
      ]
    },
    {
      "cell_type": "code",
      "source": [
        "class Atm:\n",
        "  def __init__(self):\n",
        "    self.pin=''\n",
        "    self.balance=0\n",
        "    self.menu()\n",
        "  def menu(self):\n",
        "    user_input=input(\"\"\"Hi can i help you?\n",
        "    1. Press 1 to create pin\n",
        "    2. Press 2 to change pin\n",
        "    3. Press 3 to check balance\n",
        "    4. Press 4 to withdraw\n",
        "    5. Anything else to exit\n",
        "    \"\"\")\n",
        "    if user_input=='1':\n",
        "      def create_pin(self):\n",
        "        user_pin=input(\"Enter the Pin \")\n",
        "        user_bal=int(input(\"Enter the balance\"))\n",
        "        self.pin=user_pin\n",
        "        self.balance=user_bal\n",
        "        self.menu()\n",
        "    elif user_input=='2':\n",
        "    elif user_input=='3':\n",
        "    elif user_input=='4':\n",
        "\n",
        "    else:\n",
        "      exit()\n"
      ],
      "metadata": {
        "id": "m7ci43ZMLMQt"
      },
      "execution_count": 10,
      "outputs": []
    },
    {
      "cell_type": "code",
      "source": [
        "obj=Atm()"
      ],
      "metadata": {
        "colab": {
          "base_uri": "https://localhost:8080/"
        },
        "id": "jLHGNRLPM3MS",
        "outputId": "c661ee24-dcc7-4ced-ff6b-a774a9d77760"
      },
      "execution_count": 11,
      "outputs": [
        {
          "name": "stdout",
          "output_type": "stream",
          "text": [
            "Hi can i help you?\n",
            "    1. Press 1 to create pin\n",
            "    2. Press 2 to change pin\n",
            "    3. Press 3 to check balance\n",
            "    4. Press 4 to withdraw\n",
            "    5. Anything else to exit\n",
            "    3\n"
          ]
        }
      ]
    },
    {
      "cell_type": "markdown",
      "source": [
        "Fraction\n"
      ],
      "metadata": {
        "id": "qTyNKo0eSS06"
      }
    },
    {
      "cell_type": "code",
      "source": [
        "class Fraction:\n",
        "  #Parameterized Constructor\n",
        "  def __init__(self,x,y):\n",
        "    self.num=x\n",
        "    self.den=y\n",
        "  def __str__(self):\n",
        "    return '{}/{}'.format(self.num,self.den)\n",
        "  def __add__(self,other):\n",
        ""
      ],
      "metadata": {
        "id": "lD0WLytQM9iT"
      },
      "execution_count": 19,
      "outputs": []
    },
    {
      "cell_type": "code",
      "source": [
        "obj=Fraction(3,4)\n",
        "print(obj)"
      ],
      "metadata": {
        "colab": {
          "base_uri": "https://localhost:8080/"
        },
        "id": "OqFj39kwS_iq",
        "outputId": "96bd054c-f0f9-4056-ba1b-611640cd7136"
      },
      "execution_count": 21,
      "outputs": [
        {
          "output_type": "stream",
          "name": "stdout",
          "text": [
            "3/4\n"
          ]
        }
      ]
    },
    {
      "cell_type": "markdown",
      "source": [
        "File Handling\n"
      ],
      "metadata": {
        "id": "LQQOhjfxV09D"
      }
    },
    {
      "cell_type": "code",
      "source": [
        "file=open(\"sample.txt\",\"w\")\n",
        "file.write(\"hello dosto how are you\")\n",
        "file.close()"
      ],
      "metadata": {
        "id": "YOmMxtSETH75"
      },
      "execution_count": 26,
      "outputs": []
    },
    {
      "cell_type": "code",
      "source": [
        "file_1=open(\"sample1.txt\",\"w\")\n",
        "file_1.write(\"hello dost write multiple line\")\n",
        "file_1.write(\"\\n how are you\")\n",
        "file_1.close()"
      ],
      "metadata": {
        "id": "8nWp0yrOW0On"
      },
      "execution_count": 27,
      "outputs": []
    },
    {
      "cell_type": "markdown",
      "source": [
        "Write SomeThing existing file\n"
      ],
      "metadata": {
        "id": "Z7ECkMYGXxKq"
      }
    },
    {
      "cell_type": "code",
      "source": [
        "file_2=open(\"sample1.txt\",\"a\")\n",
        "file_2.write(\"\\nWelcome To Append Function\")\n",
        "file_2.close()"
      ],
      "metadata": {
        "id": "CtGCDAt_Xp6B"
      },
      "execution_count": 29,
      "outputs": []
    },
    {
      "cell_type": "code",
      "source": [
        "l=['hello\\n','how are \\n','you\\n']\n",
        "f=open('sample.txt','w')\n",
        "f.writelines(l)\n",
        "f.close()"
      ],
      "metadata": {
        "id": "A42GXIf7YU-T"
      },
      "execution_count": 34,
      "outputs": []
    },
    {
      "cell_type": "markdown",
      "source": [
        "File Read"
      ],
      "metadata": {
        "id": "dxN6QVikZEt6"
      }
    },
    {
      "cell_type": "code",
      "source": [
        "f=open('/content/sample1.txt','r')\n",
        "while True:\n",
        "  data=f.readline()\n",
        "  if data =='':\n",
        "    break\n",
        "  else:\n",
        "    print(data,end='')\n",
        "f.close()"
      ],
      "metadata": {
        "colab": {
          "base_uri": "https://localhost:8080/"
        },
        "id": "mcKuC3vAY5mY",
        "outputId": "ae71788c-7dc2-4639-c6d8-31e4af6f1f03"
      },
      "execution_count": 39,
      "outputs": [
        {
          "output_type": "stream",
          "name": "stdout",
          "text": [
            "hello dost write multiple line\n",
            "how are you\n",
            "Welcome To Append Function"
          ]
        }
      ]
    },
    {
      "cell_type": "markdown",
      "source": [
        "Using Context Manager(With)"
      ],
      "metadata": {
        "id": "Rj23MAUZcUSc"
      }
    },
    {
      "cell_type": "markdown",
      "source": [
        "using with auto close the file"
      ],
      "metadata": {
        "id": "92h9YJVxdEG2"
      }
    },
    {
      "cell_type": "code",
      "source": [
        "with open('sample1.txt','w') as f:\n",
        "  f.write('sallu bhai')"
      ],
      "metadata": {
        "id": "G3j3xLBybMu_"
      },
      "execution_count": 44,
      "outputs": []
    },
    {
      "cell_type": "code",
      "source": [
        "with open('sample.txt','r') as f:\n",
        "  print(f.read())"
      ],
      "metadata": {
        "colab": {
          "base_uri": "https://localhost:8080/"
        },
        "id": "FAzAICONcn0_",
        "outputId": "7230a573-578a-43c9-81e6-cc4209bf1e09"
      },
      "execution_count": 46,
      "outputs": [
        {
          "output_type": "stream",
          "name": "stdout",
          "text": [
            "hello\n",
            "how are \n",
            "you\n",
            "\n"
          ]
        }
      ]
    },
    {
      "cell_type": "markdown",
      "source": [
        "Seek and Tell"
      ],
      "metadata": {
        "id": "oUUoHBxffGWU"
      }
    },
    {
      "cell_type": "code",
      "source": [
        "with open('sample.txt','r') as f:\n",
        "  print(f.read(10))\n",
        "  print(f.tell())\n",
        "  print(f.read(10))\n",
        "  print(f.seek(15))\n",
        "  print(f.read())"
      ],
      "metadata": {
        "colab": {
          "base_uri": "https://localhost:8080/"
        },
        "id": "0cnJ7iIFdRPS",
        "outputId": "98d5fb58-8ec5-4184-b279-fc141d9b6525"
      },
      "execution_count": 49,
      "outputs": [
        {
          "output_type": "stream",
          "name": "stdout",
          "text": [
            "hello\n",
            "how \n",
            "10\n",
            "are \n",
            "you\n",
            "\n",
            "15\n",
            "you\n",
            "\n"
          ]
        }
      ]
    },
    {
      "cell_type": "markdown",
      "source": [
        "Serialization and Deserialzation"
      ],
      "metadata": {
        "id": "rfOvp_bjjEAm"
      }
    },
    {
      "cell_type": "code",
      "source": [
        "import json\n",
        "l=[1,2,3,4,5,6]\n",
        "with open('demo.json','w') as f:\n",
        "  json.dump(l,f,indent=4)\n"
      ],
      "metadata": {
        "id": "uCZ9RvOkfXND"
      },
      "execution_count": 52,
      "outputs": []
    },
    {
      "cell_type": "code",
      "source": [
        "dic={\n",
        "    \"name\":\"chandan\",\n",
        "    \"age\":33,\n",
        "    \"gender\":\"male\"\n",
        "}\n",
        "with open('demo.json','w') as f:\n",
        "  json.dump(dic,f,indent=4)"
      ],
      "metadata": {
        "id": "ln-4QCyRjs-1"
      },
      "execution_count": 55,
      "outputs": []
    },
    {
      "cell_type": "code",
      "source": [
        "with open('demo.json','r') as f:\n",
        "  d=json.load(f)\n",
        "  print(d)\n",
        "  print(type(d))"
      ],
      "metadata": {
        "colab": {
          "base_uri": "https://localhost:8080/"
        },
        "id": "pXqlhC5lkXx2",
        "outputId": "7793871b-91ce-437d-8ef9-c35fdaec2485"
      },
      "execution_count": 58,
      "outputs": [
        {
          "output_type": "stream",
          "name": "stdout",
          "text": [
            "{'name': 'chandan', 'age': 33, 'gender': 'male'}\n",
            "<class 'dict'>\n"
          ]
        }
      ]
    },
    {
      "cell_type": "markdown",
      "source": [
        "In Tuple"
      ],
      "metadata": {
        "id": "7V5JhFyxlUvF"
      }
    },
    {
      "cell_type": "code",
      "source": [
        "import json\n",
        "t=(1,2,3,4,5,6)\n",
        "with open('demo.json','w') as f:\n",
        "  json.dump(t,f)"
      ],
      "metadata": {
        "id": "SLd1Mar8kvuu"
      },
      "execution_count": 60,
      "outputs": []
    },
    {
      "cell_type": "markdown",
      "source": [
        "Class In"
      ],
      "metadata": {
        "id": "7KDT5yHKl64T"
      }
    },
    {
      "cell_type": "code",
      "source": [
        "class Person:\n",
        "  def __init__(self,fname,lname,age,gender):\n",
        "    self.fname=fname\n",
        "    self.lname=lname\n",
        "    self.age=age\n",
        "    self.gender=gender"
      ],
      "metadata": {
        "id": "AgFMN-wFlpCP"
      },
      "execution_count": 61,
      "outputs": []
    },
    {
      "cell_type": "code",
      "source": [
        "person=Person(\"chandan\",\"kumar\",21,\"male\")\n"
      ],
      "metadata": {
        "id": "BQeCAbXamYJg"
      },
      "execution_count": 62,
      "outputs": []
    },
    {
      "cell_type": "code",
      "source": [
        "import json\n",
        "def show_object(self):\n",
        "  if isinstance(person,Person):\n",
        "    return \"Fname -> {} lname -> {} age ->{} gender -> {}\".format(person.fname,person.lname,person.age,person.gender)\n",
        "with open('demo.json','w') as f:\n",
        "  json.dump(person,f,default=show_object)"
      ],
      "metadata": {
        "id": "vJUtVLeFmfz6"
      },
      "execution_count": 64,
      "outputs": []
    },
    {
      "cell_type": "markdown",
      "source": [
        "Pickling"
      ],
      "metadata": {
        "id": "hRGq51EhoV76"
      }
    },
    {
      "cell_type": "code",
      "source": [],
      "metadata": {
        "id": "BLsVPeppneLy"
      },
      "execution_count": null,
      "outputs": []
    }
  ]
}